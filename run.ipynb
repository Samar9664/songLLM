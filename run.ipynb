{
 "cells": [
  {
   "attachments": {},
   "cell_type": "markdown",
   "metadata": {},
   "source": [
    "### songLLM : Instructions"
   ]
  },
  {
   "attachments": {},
   "cell_type": "markdown",
   "metadata": {},
   "source": [
    "This contains the instructions that we can follow to train an LLM (over spotify's million songs data) as well as serve it over an API so we can request it a response to a prompt by cURL command.\n"
   ]
  },
  {
   "attachments": {},
   "cell_type": "markdown",
   "metadata": {},
   "source": [
    "### train.py"
   ]
  },
  {
   "attachments": {},
   "cell_type": "markdown",
   "metadata": {},
   "source": [
    "The directory consists of a train.py file, which we use to train it over the dataset.\n",
    "The dataset for this is in the directory \"/dataset/spotify_millsongdata.csv\" in a csv format. We use only the text column from the csv file to train our model."
   ]
  },
  {
   "attachments": {},
   "cell_type": "markdown",
   "metadata": {},
   "source": [
    "Firstly, we have to run the train the file, and give the parameters of the file path used for the dataset in the 'fp' argument, the output path in the 'op' argument and lastly the learning rate as 'lr'."
   ]
  },
  {
   "attachments": {},
   "cell_type": "markdown",
   "metadata": {},
   "source": [
    "We can run this command to run the train file: "
   ]
  },
  {
   "cell_type": "code",
   "execution_count": null,
   "metadata": {},
   "outputs": [],
   "source": [
    "!python train.py fp='dataset/spotify_millsong.csv' op='out/SongData' lr=5e-4 #(or any other learning rate of your choice)"
   ]
  },
  {
   "attachments": {},
   "cell_type": "markdown",
   "metadata": {},
   "source": [
    "Our file would start training now, and the weights and configuration file would be saved in the /out/songLLM directory. We can move forward to doing inference on the model using the server.py file."
   ]
  },
  {
   "attachments": {},
   "cell_type": "markdown",
   "metadata": {},
   "source": [
    "We can run the server using this command: "
   ]
  },
  {
   "cell_type": "code",
   "execution_count": null,
   "metadata": {},
   "outputs": [],
   "source": [
    "!python -m uvicorn server:app --reload"
   ]
  },
  {
   "attachments": {},
   "cell_type": "markdown",
   "metadata": {},
   "source": [
    "Once we have run our server, we can request an output from it using the curl command."
   ]
  },
  {
   "cell_type": "code",
   "execution_count": null,
   "metadata": {},
   "outputs": [],
   "source": [
    "!curl -X 'POST' \\'http://127.0.0.1:8000/generatetext' \\-H 'accept: application/json' \\-H 'Content-Type: application/json' \\-d '{\"text\": \"NimbleBox\",  \"max_length\": 1000}'"
   ]
  },
  {
   "attachments": {},
   "cell_type": "markdown",
   "metadata": {},
   "source": [
    "We would get a json file in return which would consist of our generated text."
   ]
  },
  {
   "attachments": {},
   "cell_type": "markdown",
   "metadata": {},
   "source": [
    "Output: "
   ]
  },
  {
   "attachments": {},
   "cell_type": "markdown",
   "metadata": {},
   "source": [
    "NimbleBox  \n",
    "And I don't need so long  \n",
    "With this magic long from the side of love  \n",
    "I've learned more like a friend sead  \n",
    "Me sea, don't need to tell me a cryin'  \n",
    "I could stay this word who I've changed to die  \n",
    "There's only on, my let this workin'  \n",
    "It's only here with the man on the rive  \n",
    "  \n",
    "I thought I've found it too down and I look\n",
    "\n",
    "\n",
    "All your friends fading back to find  \n",
    "Oh, your brother's true  \n",
    "Your love is she haven't let you her cause  \n",
    "At the truth  \n",
    "Oh-oh, tonight  \n",
    "  \n",
    "I got to tell you  \n",
    "I got to be crazy  \n",
    "Babe to break it on your wires  \n",
    "There you with a batterflower  \n",
    "Stop until the little time  \n",
    "Babe I'm never finally been all nothing  \n",
    "I'm alone in the nighteek, too stunna loads  \n",
    "Shit into your house in the night  \n",
    "And looking for a woman chance  \n",
    "I know that a woman that you know  \n",
    "She likes so many thing  \n",
    "But you can look in my cleatel hondoor  \n",
    "I live in my living way back the heat  \n",
    "Is sing me and myself  \n",
    "Seeks like a big body banging ba"
   ]
  }
 ],
 "metadata": {
  "kernelspec": {
   "display_name": "Python 3",
   "language": "python",
   "name": "python3"
  },
  "language_info": {
   "codemirror_mode": {
    "name": "ipython",
    "version": 3
   },
   "file_extension": ".py",
   "mimetype": "text/x-python",
   "name": "python",
   "nbconvert_exporter": "python",
   "pygments_lexer": "ipython3",
   "version": "3.9.13"
  },
  "orig_nbformat": 4
 },
 "nbformat": 4,
 "nbformat_minor": 2
}
